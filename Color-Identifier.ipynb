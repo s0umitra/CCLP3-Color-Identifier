{
 "cells": [
  {
   "cell_type": "markdown",
   "metadata": {},
   "source": [
    "# Color Identification"
   ]
  },
  {
   "cell_type": "markdown",
   "metadata": {},
   "source": [
    "#### (Soumitra Dnyaneshwar Edake)"
   ]
  },
  {
   "cell_type": "markdown",
   "metadata": {},
   "source": [
    "### PROBLEM STATEMENT:-"
   ]
  },
  {
   "cell_type": "markdown",
   "metadata": {},
   "source": [
    "Interns are expected to create a Tensorflow model for indentification of color. Your code will be givenan image as an input and the code is supposed to catergorize which RGB color it matches to. This code is to be done in Python"
   ]
  },
  {
   "cell_type": "code",
   "execution_count": 1,
   "metadata": {},
   "outputs": [
    {
     "name": "stderr",
     "output_type": "stream",
     "text": [
      "Using TensorFlow backend.\n"
     ]
    }
   ],
   "source": [
    "# imports\n",
    "\n",
    "import os\n",
    "import random\n",
    "import cv2\n",
    "import numpy as np\n",
    "import pandas as pd\n",
    "from keras.preprocessing import image\n",
    "import tensorflow as tf\n",
    "from keras import Sequential\n",
    "from keras.layers import MaxPooling2D, Conv2D, Flatten, Dense, Dropout\n",
    "from sklearn.model_selection import train_test_split\n",
    "from keras.engine.saving import load_model"
   ]
  },
  {
   "cell_type": "code",
   "execution_count": 2,
   "metadata": {},
   "outputs": [],
   "source": [
    "# setting GPU memory growth for no memory glitches\n",
    "physical_devices = tf.config.experimental.list_physical_devices('GPU')\n",
    "assert len(physical_devices) > 0, \"Not enough GPU hardware devices available\"\n",
    "config = tf.config.experimental.set_memory_growth(physical_devices[0], True)"
   ]
  },
  {
   "cell_type": "markdown",
   "metadata": {},
   "source": [
    "### Dataset Creator"
   ]
  },
  {
   "cell_type": "markdown",
   "metadata": {},
   "source": [
    "As no pre data set is provided, we will make one ourself"
   ]
  },
  {
   "cell_type": "code",
   "execution_count": 3,
   "metadata": {},
   "outputs": [],
   "source": [
    "def create_img(color, add_other=False):\n",
    "    counter = 0\n",
    "\n",
    "    for ind in range(25, 245, 10):\n",
    "        counter += 1\n",
    "        if color == 'red':\n",
    "            blank_image[:, 0:width] = (0, 0, ind)\n",
    "\n",
    "        elif color == 'blue':\n",
    "            blank_image[:, 0:width] = (ind, 0, 0)\n",
    "\n",
    "        elif color == 'green':\n",
    "            blank_image[:, 0:width] = (0, ind, 0)\n",
    "\n",
    "        path_image = base + color + \"_\" + str(counter) + '.jpg'\n",
    "        cv2.imwrite(path_image, blank_image)\n",
    "\n",
    "        if add_other:\n",
    "            tot = 0\n",
    "            for c1 in range(110, 230, 120):\n",
    "                for c2 in range(110, 230, 120):\n",
    "                    tot += 1\n",
    "                    if color == 'red':\n",
    "                        blank_image[:, 0:width] = (c1, c2, ind)\n",
    "\n",
    "                    elif color == 'blue':\n",
    "                        blank_image[:, 0:width] = (ind, c1, c2)\n",
    "\n",
    "                    elif color == 'green':\n",
    "                        blank_image[:, 0:width] = (c1, ind, c2)\n",
    "\n",
    "                    path_image = base + color + \"_\" + str(counter) + str(tot) + '.jpg'\n",
    "                    cv2.imwrite(path_image, blank_image)"
   ]
  },
  {
   "cell_type": "code",
   "execution_count": 4,
   "metadata": {},
   "outputs": [],
   "source": [
    "def get_dataset(base):\n",
    "    total_images = os.listdir(base)\n",
    "    total_red = [x for x in total_images if x.split('_')[0] == 'red']\n",
    "    total_blue = [x for x in total_images if x.split('_')[0] == 'blue']\n",
    "    total_green = [x for x in total_images if x.split('_')[0] == 'green']\n",
    "\n",
    "    print('total images:', len(total_images))\n",
    "    print('total red:', len(total_red))\n",
    "    print('total blue:', len(total_blue))\n",
    "    print('total green:', len(total_green))\n",
    "\n",
    "    return total_images"
   ]
  },
  {
   "cell_type": "code",
   "execution_count": 5,
   "metadata": {},
   "outputs": [],
   "source": [
    "def create_custom(value):\n",
    "    # BGR\n",
    "    blank_image[:, 0:width] = value\n",
    "    blue, green, red = value\n",
    "    #    path_image = base + \"cc_\" + str(value) + '.jpg'\n",
    "    path_image = base + \"cc_(\" + str(red) + \", \" + str(green) + \", \" + str(blue) + ').jpg'\n",
    "    cv2.imwrite(path_image, blank_image)"
   ]
  },
  {
   "cell_type": "code",
   "execution_count": 6,
   "metadata": {},
   "outputs": [],
   "source": [
    "height, width = 100, 100\n",
    "blank_image = np.zeros((height, width, 3), np.uint8)"
   ]
  },
  {
   "cell_type": "code",
   "execution_count": 7,
   "metadata": {},
   "outputs": [
    {
     "name": "stdout",
     "output_type": "stream",
     "text": [
      "total images: 126\n",
      "total red: 42\n",
      "total blue: 42\n",
      "total green: 42\n"
     ]
    },
    {
     "data": {
      "text/plain": [
       "['blue_1.jpg',\n",
       " 'blue_10.jpg',\n",
       " 'blue_101.jpg',\n",
       " 'blue_11.jpg',\n",
       " 'blue_111.jpg',\n",
       " 'blue_12.jpg',\n",
       " 'blue_121.jpg',\n",
       " 'blue_13.jpg',\n",
       " 'blue_131.jpg',\n",
       " 'blue_14.jpg',\n",
       " 'blue_141.jpg',\n",
       " 'blue_15.jpg',\n",
       " 'blue_151.jpg',\n",
       " 'blue_16.jpg',\n",
       " 'blue_161.jpg',\n",
       " 'blue_17.jpg',\n",
       " 'blue_171.jpg',\n",
       " 'blue_18.jpg',\n",
       " 'blue_181.jpg',\n",
       " 'blue_19.jpg',\n",
       " 'blue_191.jpg',\n",
       " 'blue_2.jpg',\n",
       " 'blue_20.jpg',\n",
       " 'blue_201.jpg',\n",
       " 'blue_21.jpg',\n",
       " 'blue_211.jpg',\n",
       " 'blue_22.jpg',\n",
       " 'blue_221.jpg',\n",
       " 'blue_3.jpg',\n",
       " 'blue_31.jpg',\n",
       " 'blue_4.jpg',\n",
       " 'blue_41.jpg',\n",
       " 'blue_5.jpg',\n",
       " 'blue_51.jpg',\n",
       " 'blue_6.jpg',\n",
       " 'blue_61.jpg',\n",
       " 'blue_7.jpg',\n",
       " 'blue_71.jpg',\n",
       " 'blue_8.jpg',\n",
       " 'blue_81.jpg',\n",
       " 'blue_9.jpg',\n",
       " 'blue_91.jpg',\n",
       " 'green_1.jpg',\n",
       " 'green_10.jpg',\n",
       " 'green_101.jpg',\n",
       " 'green_11.jpg',\n",
       " 'green_111.jpg',\n",
       " 'green_12.jpg',\n",
       " 'green_121.jpg',\n",
       " 'green_13.jpg',\n",
       " 'green_131.jpg',\n",
       " 'green_14.jpg',\n",
       " 'green_141.jpg',\n",
       " 'green_15.jpg',\n",
       " 'green_151.jpg',\n",
       " 'green_16.jpg',\n",
       " 'green_161.jpg',\n",
       " 'green_17.jpg',\n",
       " 'green_171.jpg',\n",
       " 'green_18.jpg',\n",
       " 'green_181.jpg',\n",
       " 'green_19.jpg',\n",
       " 'green_191.jpg',\n",
       " 'green_2.jpg',\n",
       " 'green_20.jpg',\n",
       " 'green_201.jpg',\n",
       " 'green_21.jpg',\n",
       " 'green_211.jpg',\n",
       " 'green_22.jpg',\n",
       " 'green_221.jpg',\n",
       " 'green_3.jpg',\n",
       " 'green_31.jpg',\n",
       " 'green_4.jpg',\n",
       " 'green_41.jpg',\n",
       " 'green_5.jpg',\n",
       " 'green_51.jpg',\n",
       " 'green_6.jpg',\n",
       " 'green_61.jpg',\n",
       " 'green_7.jpg',\n",
       " 'green_71.jpg',\n",
       " 'green_8.jpg',\n",
       " 'green_81.jpg',\n",
       " 'green_9.jpg',\n",
       " 'green_91.jpg',\n",
       " 'red_1.jpg',\n",
       " 'red_10.jpg',\n",
       " 'red_101.jpg',\n",
       " 'red_11.jpg',\n",
       " 'red_111.jpg',\n",
       " 'red_12.jpg',\n",
       " 'red_121.jpg',\n",
       " 'red_13.jpg',\n",
       " 'red_131.jpg',\n",
       " 'red_14.jpg',\n",
       " 'red_141.jpg',\n",
       " 'red_15.jpg',\n",
       " 'red_151.jpg',\n",
       " 'red_16.jpg',\n",
       " 'red_161.jpg',\n",
       " 'red_17.jpg',\n",
       " 'red_171.jpg',\n",
       " 'red_18.jpg',\n",
       " 'red_181.jpg',\n",
       " 'red_19.jpg',\n",
       " 'red_191.jpg',\n",
       " 'red_2.jpg',\n",
       " 'red_20.jpg',\n",
       " 'red_201.jpg',\n",
       " 'red_21.jpg',\n",
       " 'red_211.jpg',\n",
       " 'red_22.jpg',\n",
       " 'red_221.jpg',\n",
       " 'red_3.jpg',\n",
       " 'red_31.jpg',\n",
       " 'red_4.jpg',\n",
       " 'red_41.jpg',\n",
       " 'red_5.jpg',\n",
       " 'red_51.jpg',\n",
       " 'red_6.jpg',\n",
       " 'red_61.jpg',\n",
       " 'red_7.jpg',\n",
       " 'red_71.jpg',\n",
       " 'red_8.jpg',\n",
       " 'red_81.jpg',\n",
       " 'red_9.jpg',\n",
       " 'red_91.jpg']"
      ]
     },
     "execution_count": 7,
     "metadata": {},
     "output_type": "execute_result"
    }
   ],
   "source": [
    "base = 'dataset\\\\'\n",
    "add = True\n",
    "create_img('blue', add_other=add)\n",
    "create_img('red', add_other=add)\n",
    "create_img('green', add_other=add)\n",
    "get_dataset(base)"
   ]
  },
  {
   "cell_type": "code",
   "execution_count": 8,
   "metadata": {},
   "outputs": [
    {
     "data": {
      "text/plain": [
       "126"
      ]
     },
     "execution_count": 8,
     "metadata": {},
     "output_type": "execute_result"
    }
   ],
   "source": [
    "len(os.listdir(base))"
   ]
  },
  {
   "cell_type": "code",
   "execution_count": 9,
   "metadata": {},
   "outputs": [],
   "source": [
    "base = 'input\\\\'\n",
    "for i in range(0, 100):\n",
    "    create_custom((random.choice(range(0, 255)),\n",
    "                   random.choice(range(0, 255)),\n",
    "                   random.choice(range(0, 255))))"
   ]
  },
  {
   "cell_type": "code",
   "execution_count": 10,
   "metadata": {},
   "outputs": [
    {
     "data": {
      "text/plain": [
       "100"
      ]
     },
     "execution_count": 10,
     "metadata": {},
     "output_type": "execute_result"
    }
   ],
   "source": [
    "len(os.listdir(base))"
   ]
  },
  {
   "cell_type": "code",
   "execution_count": 11,
   "metadata": {},
   "outputs": [
    {
     "name": "stdout",
     "output_type": "stream",
     "text": [
      "total images: 126\n",
      "total red: 42\n",
      "total blue: 42\n",
      "total green: 42\n"
     ]
    }
   ],
   "source": [
    "base = 'dataset\\\\'\n",
    "total_images = get_dataset(base)"
   ]
  },
  {
   "cell_type": "code",
   "execution_count": 12,
   "metadata": {},
   "outputs": [
    {
     "data": {
      "text/plain": [
       "126"
      ]
     },
     "execution_count": 12,
     "metadata": {},
     "output_type": "execute_result"
    }
   ],
   "source": [
    "len(total_images)"
   ]
  },
  {
   "cell_type": "code",
   "execution_count": 13,
   "metadata": {},
   "outputs": [
    {
     "data": {
      "text/plain": [
       "['blue_1.jpg', 'blue_10.jpg', 'blue_101.jpg', 'blue_11.jpg', 'blue_111.jpg']"
      ]
     },
     "execution_count": 13,
     "metadata": {},
     "output_type": "execute_result"
    }
   ],
   "source": [
    "total_images[:5]"
   ]
  },
  {
   "cell_type": "code",
   "execution_count": 14,
   "metadata": {},
   "outputs": [],
   "source": [
    "data = list()\n",
    "for x in total_images:\n",
    "    ent = [x, x.split('_')[0]]\n",
    "    data.append(ent)"
   ]
  },
  {
   "cell_type": "code",
   "execution_count": 15,
   "metadata": {},
   "outputs": [
    {
     "data": {
      "text/plain": [
       "[['blue_1.jpg', 'blue'],\n",
       " ['blue_10.jpg', 'blue'],\n",
       " ['blue_101.jpg', 'blue'],\n",
       " ['blue_11.jpg', 'blue'],\n",
       " ['blue_111.jpg', 'blue']]"
      ]
     },
     "execution_count": 15,
     "metadata": {},
     "output_type": "execute_result"
    }
   ],
   "source": [
    "data[:5]"
   ]
  },
  {
   "cell_type": "code",
   "execution_count": 21,
   "metadata": {},
   "outputs": [],
   "source": [
    "train = pd.DataFrame(data, columns=['image', 'color'])"
   ]
  },
  {
   "cell_type": "code",
   "execution_count": 22,
   "metadata": {},
   "outputs": [
    {
     "data": {
      "text/html": [
       "<div>\n",
       "<style scoped>\n",
       "    .dataframe tbody tr th:only-of-type {\n",
       "        vertical-align: middle;\n",
       "    }\n",
       "\n",
       "    .dataframe tbody tr th {\n",
       "        vertical-align: top;\n",
       "    }\n",
       "\n",
       "    .dataframe thead th {\n",
       "        text-align: right;\n",
       "    }\n",
       "</style>\n",
       "<table border=\"1\" class=\"dataframe\">\n",
       "  <thead>\n",
       "    <tr style=\"text-align: right;\">\n",
       "      <th></th>\n",
       "      <th>image</th>\n",
       "      <th>color</th>\n",
       "    </tr>\n",
       "  </thead>\n",
       "  <tbody>\n",
       "    <tr>\n",
       "      <th>0</th>\n",
       "      <td>blue_1.jpg</td>\n",
       "      <td>blue</td>\n",
       "    </tr>\n",
       "    <tr>\n",
       "      <th>1</th>\n",
       "      <td>blue_10.jpg</td>\n",
       "      <td>blue</td>\n",
       "    </tr>\n",
       "    <tr>\n",
       "      <th>2</th>\n",
       "      <td>blue_101.jpg</td>\n",
       "      <td>blue</td>\n",
       "    </tr>\n",
       "    <tr>\n",
       "      <th>3</th>\n",
       "      <td>blue_11.jpg</td>\n",
       "      <td>blue</td>\n",
       "    </tr>\n",
       "    <tr>\n",
       "      <th>4</th>\n",
       "      <td>blue_111.jpg</td>\n",
       "      <td>blue</td>\n",
       "    </tr>\n",
       "  </tbody>\n",
       "</table>\n",
       "</div>"
      ],
      "text/plain": [
       "          image color\n",
       "0    blue_1.jpg  blue\n",
       "1   blue_10.jpg  blue\n",
       "2  blue_101.jpg  blue\n",
       "3   blue_11.jpg  blue\n",
       "4  blue_111.jpg  blue"
      ]
     },
     "execution_count": 22,
     "metadata": {},
     "output_type": "execute_result"
    }
   ],
   "source": [
    "train.head()"
   ]
  },
  {
   "cell_type": "code",
   "execution_count": 23,
   "metadata": {},
   "outputs": [],
   "source": [
    "train = pd.concat([train.drop('color', axis=1),\n",
    "                   pd.get_dummies(train['color'],\n",
    "                                  prefix='color',\n",
    "                                  prefix_sep='_',\n",
    "                                  dummy_na=False)],\n",
    "                  axis=1)"
   ]
  },
  {
   "cell_type": "code",
   "execution_count": 24,
   "metadata": {},
   "outputs": [
    {
     "data": {
      "text/html": [
       "<div>\n",
       "<style scoped>\n",
       "    .dataframe tbody tr th:only-of-type {\n",
       "        vertical-align: middle;\n",
       "    }\n",
       "\n",
       "    .dataframe tbody tr th {\n",
       "        vertical-align: top;\n",
       "    }\n",
       "\n",
       "    .dataframe thead th {\n",
       "        text-align: right;\n",
       "    }\n",
       "</style>\n",
       "<table border=\"1\" class=\"dataframe\">\n",
       "  <thead>\n",
       "    <tr style=\"text-align: right;\">\n",
       "      <th></th>\n",
       "      <th>image</th>\n",
       "      <th>color_blue</th>\n",
       "      <th>color_green</th>\n",
       "      <th>color_red</th>\n",
       "    </tr>\n",
       "  </thead>\n",
       "  <tbody>\n",
       "    <tr>\n",
       "      <th>0</th>\n",
       "      <td>blue_1.jpg</td>\n",
       "      <td>1</td>\n",
       "      <td>0</td>\n",
       "      <td>0</td>\n",
       "    </tr>\n",
       "    <tr>\n",
       "      <th>1</th>\n",
       "      <td>blue_10.jpg</td>\n",
       "      <td>1</td>\n",
       "      <td>0</td>\n",
       "      <td>0</td>\n",
       "    </tr>\n",
       "    <tr>\n",
       "      <th>2</th>\n",
       "      <td>blue_101.jpg</td>\n",
       "      <td>1</td>\n",
       "      <td>0</td>\n",
       "      <td>0</td>\n",
       "    </tr>\n",
       "    <tr>\n",
       "      <th>3</th>\n",
       "      <td>blue_11.jpg</td>\n",
       "      <td>1</td>\n",
       "      <td>0</td>\n",
       "      <td>0</td>\n",
       "    </tr>\n",
       "    <tr>\n",
       "      <th>4</th>\n",
       "      <td>blue_111.jpg</td>\n",
       "      <td>1</td>\n",
       "      <td>0</td>\n",
       "      <td>0</td>\n",
       "    </tr>\n",
       "  </tbody>\n",
       "</table>\n",
       "</div>"
      ],
      "text/plain": [
       "          image  color_blue  color_green  color_red\n",
       "0    blue_1.jpg           1            0          0\n",
       "1   blue_10.jpg           1            0          0\n",
       "2  blue_101.jpg           1            0          0\n",
       "3   blue_11.jpg           1            0          0\n",
       "4  blue_111.jpg           1            0          0"
      ]
     },
     "execution_count": 24,
     "metadata": {},
     "output_type": "execute_result"
    }
   ],
   "source": [
    "train.head()"
   ]
  },
  {
   "cell_type": "code",
   "execution_count": 25,
   "metadata": {},
   "outputs": [],
   "source": [
    "train_image = []\n",
    "for i in range(len(total_images)):\n",
    "    img = image.load_img(base + train['image'][i])\n",
    "    img = image.img_to_array(img)\n",
    "    img = img / 255\n",
    "    train_image.append(img)"
   ]
  },
  {
   "cell_type": "code",
   "execution_count": 26,
   "metadata": {},
   "outputs": [
    {
     "data": {
      "text/plain": [
       "126"
      ]
     },
     "execution_count": 26,
     "metadata": {},
     "output_type": "execute_result"
    }
   ],
   "source": [
    "len(train_image)"
   ]
  },
  {
   "cell_type": "markdown",
   "metadata": {},
   "source": [
    "Load the data into numpy arrays"
   ]
  },
  {
   "cell_type": "code",
   "execution_count": 27,
   "metadata": {},
   "outputs": [],
   "source": [
    "X = np.array(train_image)\n",
    "y = np.array(train[['color_red', 'color_green', 'color_blue']])"
   ]
  },
  {
   "cell_type": "code",
   "execution_count": 28,
   "metadata": {},
   "outputs": [
    {
     "data": {
      "text/plain": [
       "array([[0, 0, 1],\n",
       "       [0, 0, 1],\n",
       "       [0, 0, 1],\n",
       "       [0, 0, 1],\n",
       "       [0, 0, 1]], dtype=uint8)"
      ]
     },
     "execution_count": 28,
     "metadata": {},
     "output_type": "execute_result"
    }
   ],
   "source": [
    "y[:5]"
   ]
  },
  {
   "cell_type": "markdown",
   "metadata": {},
   "source": [
    "## Model Training"
   ]
  },
  {
   "cell_type": "code",
   "execution_count": 29,
   "metadata": {},
   "outputs": [],
   "source": [
    "model_path = 'model.h5'"
   ]
  },
  {
   "cell_type": "code",
   "execution_count": 30,
   "metadata": {},
   "outputs": [],
   "source": [
    "def model_definition(X, y):\n",
    "    X_train, X_test, y_train, y_test = train_test_split(X, y, random_state=42, test_size=0.2)\n",
    "\n",
    "    model = Sequential()\n",
    "\n",
    "    model.add(Conv2D(filters=32, kernel_size=(5, 5), activation='relu', input_shape=(100, 100, 3)))\n",
    "    model.add(MaxPooling2D(pool_size=(2, 2)))\n",
    "    model.add(Conv2D(filters=64, kernel_size=(5, 5), activation=\"relu\"))\n",
    "    model.add(MaxPooling2D(pool_size=(2, 2)))\n",
    "\n",
    "    model.add(Flatten())\n",
    "\n",
    "    model.add(Dense(64, activation='relu'))\n",
    "    model.add(Dense(32, activation='relu'))\n",
    "    model.add(Dense(3, activation='sigmoid'))\n",
    "\n",
    "    model.compile(optimizer='SGD', loss='binary_crossentropy', metrics=['accuracy'])\n",
    "\n",
    "    model.fit(X_train, y_train,\n",
    "              epochs=90,\n",
    "              validation_data=(X_test, y_test),\n",
    "              batch_size=32,\n",
    "              verbose=0)\n",
    "\n",
    "    return model"
   ]
  },
  {
   "cell_type": "code",
   "execution_count": 31,
   "metadata": {},
   "outputs": [],
   "source": [
    "def pred_color(in_img, model):\n",
    "    in_img = image.load_img(in_img)\n",
    "    in_img = image.img_to_array(in_img)\n",
    "    in_img = in_img / 255\n",
    "    in_img = np.expand_dims(in_img, axis=0)\n",
    "\n",
    "    y_hat = model.predict(in_img)\n",
    "\n",
    "    red = y_hat[0][0]\n",
    "    green = y_hat[0][1]\n",
    "    blue = y_hat[0][2]\n",
    "\n",
    "    return get_color((red, green, blue))"
   ]
  },
  {
   "cell_type": "code",
   "execution_count": 32,
   "metadata": {},
   "outputs": [],
   "source": [
    "def get_color(value):\n",
    "    color = None\n",
    "    red, green, blue = value\n",
    "    if red > blue and red > green:\n",
    "        color = 'RED'\n",
    "\n",
    "    elif blue > red and blue > green:\n",
    "        color = 'BLUE'\n",
    "\n",
    "    elif green > blue and green > red:\n",
    "        color = 'GREEN'\n",
    "\n",
    "    elif green == blue and (green > red or blue > red):\n",
    "        color = 'GREEN+BLUE'\n",
    "\n",
    "    elif green == red and (red > blue or green > blue):\n",
    "        color = 'GREEN+RED'\n",
    "\n",
    "    elif blue == red and (red > green or blue > green):\n",
    "        color = 'BLUE+RED'\n",
    "\n",
    "    elif blue == red and green == blue:\n",
    "\n",
    "        if blue == 0:\n",
    "            color = 'BLACK'\n",
    "        elif blue == 255:\n",
    "            color = 'WHITE'\n",
    "        else:\n",
    "            color = 'RED+GREEN+BLUE'\n",
    "\n",
    "    return color"
   ]
  },
  {
   "cell_type": "code",
   "execution_count": 33,
   "metadata": {},
   "outputs": [],
   "source": [
    "model = model_definition(X, y)"
   ]
  },
  {
   "cell_type": "code",
   "execution_count": 34,
   "metadata": {},
   "outputs": [
    {
     "name": "stdout",
     "output_type": "stream",
     "text": [
      "Model: \"sequential_1\"\n",
      "_________________________________________________________________\n",
      "Layer (type)                 Output Shape              Param #   \n",
      "=================================================================\n",
      "conv2d_1 (Conv2D)            (None, 96, 96, 32)        2432      \n",
      "_________________________________________________________________\n",
      "max_pooling2d_1 (MaxPooling2 (None, 48, 48, 32)        0         \n",
      "_________________________________________________________________\n",
      "conv2d_2 (Conv2D)            (None, 44, 44, 64)        51264     \n",
      "_________________________________________________________________\n",
      "max_pooling2d_2 (MaxPooling2 (None, 22, 22, 64)        0         \n",
      "_________________________________________________________________\n",
      "flatten_1 (Flatten)          (None, 30976)             0         \n",
      "_________________________________________________________________\n",
      "dense_1 (Dense)              (None, 64)                1982528   \n",
      "_________________________________________________________________\n",
      "dense_2 (Dense)              (None, 32)                2080      \n",
      "_________________________________________________________________\n",
      "dense_3 (Dense)              (None, 3)                 99        \n",
      "=================================================================\n",
      "Total params: 2,038,403\n",
      "Trainable params: 2,038,403\n",
      "Non-trainable params: 0\n",
      "_________________________________________________________________\n"
     ]
    }
   ],
   "source": [
    "model.summary()"
   ]
  },
  {
   "cell_type": "code",
   "execution_count": 35,
   "metadata": {},
   "outputs": [
    {
     "name": "stdout",
     "output_type": "stream",
     "text": [
      "Model saved to: model.h5\n"
     ]
    }
   ],
   "source": [
    "model.save(model_path)\n",
    "print('Model saved to:', model_path)"
   ]
  },
  {
   "cell_type": "markdown",
   "metadata": {},
   "source": [
    "## Testing"
   ]
  },
  {
   "cell_type": "code",
   "execution_count": 36,
   "metadata": {},
   "outputs": [],
   "source": [
    "def model_load():\n",
    "    model_path = 'model.h5'\n",
    "    if os.path.exists(model_path):\n",
    "        model = load_model(model_path)\n",
    "        print(\"Loading Model\")\n",
    "    else:\n",
    "        print(\"Model not found, please train model first\")\n",
    "\n",
    "    return model"
   ]
  },
  {
   "cell_type": "code",
   "execution_count": 37,
   "metadata": {},
   "outputs": [],
   "source": [
    "def run_check(image, mod):\n",
    "    col = pred_color(image, mod)\n",
    "    return col"
   ]
  },
  {
   "cell_type": "code",
   "execution_count": 38,
   "metadata": {},
   "outputs": [
    {
     "name": "stdout",
     "output_type": "stream",
     "text": [
      "Loading Model\n"
     ]
    }
   ],
   "source": [
    "model = model_load()"
   ]
  },
  {
   "cell_type": "code",
   "execution_count": 45,
   "metadata": {},
   "outputs": [
    {
     "name": "stdout",
     "output_type": "stream",
     "text": [
      "Image: cc_(101, 142, 125).jpg\n",
      "Predicted: GREEN \n",
      "Actual: GREEN\n",
      "Image: cc_(103, 30, 40).jpg\n",
      "Predicted: RED \n",
      "Actual: RED\n",
      "Image: cc_(103, 89, 199).jpg\n",
      "Predicted: BLUE \n",
      "Actual: BLUE\n",
      "Image: cc_(105, 233, 229).jpg\n",
      "Predicted: GREEN \n",
      "Actual: GREEN\n",
      "Image: cc_(108, 51, 77).jpg\n",
      "Predicted: RED \n",
      "Actual: RED\n",
      "Image: cc_(112, 174, 43).jpg\n",
      "Predicted: GREEN \n",
      "Actual: GREEN\n",
      "Image: cc_(120, 205, 105).jpg\n",
      "Predicted: GREEN \n",
      "Actual: GREEN\n",
      "Image: cc_(121, 72, 233).jpg\n",
      "Predicted: BLUE \n",
      "Actual: BLUE\n",
      "Image: cc_(122, 196, 143).jpg\n",
      "Predicted: GREEN \n",
      "Actual: GREEN\n",
      "Image: cc_(124, 2, 102).jpg\n",
      "Predicted: RED \n",
      "Actual: RED\n",
      "Image: cc_(125, 8, 90).jpg\n",
      "Predicted: RED \n",
      "Actual: RED\n",
      "Image: cc_(129, 11, 103).jpg\n",
      "Predicted: RED \n",
      "Actual: RED\n",
      "Image: cc_(129, 150, 169).jpg\n",
      "Predicted: BLUE \n",
      "Actual: BLUE\n",
      "Image: cc_(13, 163, 158).jpg\n",
      "Predicted: BLUE \n",
      "Actual: GREEN\n",
      "Image: cc_(132, 17, 71).jpg\n",
      "Predicted: RED \n",
      "Actual: RED\n",
      "Image: cc_(140, 157, 136).jpg\n",
      "Predicted: GREEN \n",
      "Actual: GREEN\n",
      "Image: cc_(143, 54, 228).jpg\n",
      "Predicted: BLUE \n",
      "Actual: BLUE\n",
      "Image: cc_(144, 78, 200).jpg\n",
      "Predicted: BLUE \n",
      "Actual: BLUE\n",
      "Image: cc_(15, 127, 181).jpg\n",
      "Predicted: BLUE \n",
      "Actual: BLUE\n",
      "Image: cc_(151, 107, 150).jpg\n",
      "Predicted: RED \n",
      "Actual: RED\n",
      "Image: cc_(156, 39, 79).jpg\n",
      "Predicted: RED \n",
      "Actual: RED\n",
      "Image: cc_(16, 230, 94).jpg\n",
      "Predicted: GREEN \n",
      "Actual: GREEN\n",
      "Image: cc_(160, 226, 94).jpg\n",
      "Predicted: GREEN \n",
      "Actual: GREEN\n",
      "Image: cc_(164, 216, 191).jpg\n",
      "Predicted: GREEN \n",
      "Actual: GREEN\n",
      "Image: cc_(164, 227, 222).jpg\n",
      "Predicted: GREEN \n",
      "Actual: GREEN\n",
      "Image: cc_(165, 98, 117).jpg\n",
      "Predicted: RED \n",
      "Actual: RED\n",
      "Image: cc_(168, 133, 54).jpg\n",
      "Predicted: RED \n",
      "Actual: RED\n",
      "Image: cc_(169, 162, 79).jpg\n",
      "Predicted: GREEN \n",
      "Actual: RED\n",
      "Image: cc_(171, 74, 238).jpg\n",
      "Predicted: BLUE \n",
      "Actual: BLUE\n",
      "Image: cc_(174, 29, 13).jpg\n",
      "Predicted: RED \n",
      "Actual: RED\n",
      "Image: cc_(176, 157, 113).jpg\n",
      "Predicted: RED \n",
      "Actual: RED\n",
      "Image: cc_(176, 44, 83).jpg\n",
      "Predicted: RED \n",
      "Actual: RED\n",
      "Image: cc_(177, 130, 72).jpg\n",
      "Predicted: RED \n",
      "Actual: RED\n",
      "Image: cc_(178, 168, 115).jpg\n",
      "Predicted: GREEN \n",
      "Actual: RED\n",
      "Image: cc_(181, 204, 99).jpg\n",
      "Predicted: GREEN \n",
      "Actual: GREEN\n",
      "Image: cc_(181, 70, 161).jpg\n",
      "Predicted: RED \n",
      "Actual: RED\n",
      "Image: cc_(183, 151, 242).jpg\n",
      "Predicted: BLUE \n",
      "Actual: BLUE\n",
      "Image: cc_(184, 21, 81).jpg\n",
      "Predicted: RED \n",
      "Actual: RED\n",
      "Image: cc_(185, 247, 175).jpg\n",
      "Predicted: GREEN \n",
      "Actual: GREEN\n",
      "Image: cc_(187, 124, 105).jpg\n",
      "Predicted: RED \n",
      "Actual: RED\n",
      "Image: cc_(19, 117, 135).jpg\n",
      "Predicted: BLUE \n",
      "Actual: BLUE\n",
      "Image: cc_(195, 106, 65).jpg\n",
      "Predicted: RED \n",
      "Actual: RED\n",
      "Image: cc_(197, 38, 16).jpg\n",
      "Predicted: RED \n",
      "Actual: RED\n",
      "Image: cc_(2, 83, 242).jpg\n",
      "Predicted: BLUE \n",
      "Actual: BLUE\n",
      "Image: cc_(20, 154, 48).jpg\n",
      "Predicted: GREEN \n",
      "Actual: GREEN\n",
      "Image: cc_(203, 94, 166).jpg\n",
      "Predicted: RED \n",
      "Actual: RED\n",
      "Image: cc_(207, 131, 125).jpg\n",
      "Predicted: RED \n",
      "Actual: RED\n",
      "Image: cc_(21, 198, 8).jpg\n",
      "Predicted: GREEN \n",
      "Actual: GREEN\n",
      "Image: cc_(210, 35, 182).jpg\n",
      "Predicted: RED \n",
      "Actual: RED\n",
      "Image: cc_(216, 171, 167).jpg\n",
      "Predicted: RED \n",
      "Actual: RED\n",
      "Image: cc_(216, 251, 125).jpg\n",
      "Predicted: GREEN \n",
      "Actual: GREEN\n",
      "Image: cc_(217, 114, 3).jpg\n",
      "Predicted: RED \n",
      "Actual: RED\n",
      "Image: cc_(218, 150, 175).jpg\n",
      "Predicted: RED \n",
      "Actual: RED\n",
      "Image: cc_(22, 115, 93).jpg\n",
      "Predicted: GREEN \n",
      "Actual: GREEN\n",
      "Image: cc_(220, 232, 194).jpg\n",
      "Predicted: GREEN \n",
      "Actual: GREEN\n",
      "Image: cc_(224, 164, 2).jpg\n",
      "Predicted: RED \n",
      "Actual: RED\n",
      "Image: cc_(224, 246, 83).jpg\n",
      "Predicted: GREEN \n",
      "Actual: GREEN\n",
      "Image: cc_(225, 162, 127).jpg\n",
      "Predicted: RED \n",
      "Actual: RED\n",
      "Image: cc_(23, 173, 198).jpg\n",
      "Predicted: BLUE \n",
      "Actual: BLUE\n",
      "Image: cc_(230, 152, 168).jpg\n",
      "Predicted: RED \n",
      "Actual: RED\n",
      "Image: cc_(234, 25, 5).jpg\n",
      "Predicted: RED \n",
      "Actual: RED\n",
      "Image: cc_(235, 251, 3).jpg\n",
      "Predicted: GREEN \n",
      "Actual: GREEN\n",
      "Image: cc_(238, 84, 57).jpg\n",
      "Predicted: RED \n",
      "Actual: RED\n",
      "Image: cc_(242, 122, 15).jpg\n",
      "Predicted: RED \n",
      "Actual: RED\n",
      "Image: cc_(242, 126, 54).jpg\n",
      "Predicted: RED \n",
      "Actual: RED\n",
      "Image: cc_(247, 105, 40).jpg\n",
      "Predicted: RED \n",
      "Actual: RED\n",
      "Image: cc_(251, 119, 84).jpg\n",
      "Predicted: RED \n",
      "Actual: RED\n",
      "Image: cc_(253, 109, 138).jpg\n",
      "Predicted: RED \n",
      "Actual: RED\n",
      "Image: cc_(253, 153, 84).jpg\n",
      "Predicted: RED \n",
      "Actual: RED\n",
      "Image: cc_(29, 217, 66).jpg\n",
      "Predicted: GREEN \n",
      "Actual: GREEN\n",
      "Image: cc_(30, 130, 70).jpg\n",
      "Predicted: GREEN \n",
      "Actual: GREEN\n",
      "Image: cc_(38, 48, 24).jpg\n",
      "Predicted: GREEN \n",
      "Actual: GREEN\n",
      "Image: cc_(39, 123, 117).jpg\n",
      "Predicted: GREEN \n",
      "Actual: GREEN\n",
      "Image: cc_(41, 182, 102).jpg\n",
      "Predicted: GREEN \n",
      "Actual: GREEN\n",
      "Image: cc_(41, 19, 159).jpg\n",
      "Predicted: BLUE \n",
      "Actual: BLUE\n",
      "Image: cc_(43, 103, 192).jpg\n",
      "Predicted: BLUE \n",
      "Actual: BLUE\n",
      "Image: cc_(5, 40, 15).jpg\n",
      "Predicted: GREEN \n",
      "Actual: GREEN\n",
      "Image: cc_(5, 95, 205).jpg\n",
      "Predicted: BLUE \n",
      "Actual: BLUE\n",
      "Image: cc_(52, 175, 141).jpg\n",
      "Predicted: GREEN \n",
      "Actual: GREEN\n",
      "Image: cc_(55, 39, 131).jpg\n",
      "Predicted: BLUE \n",
      "Actual: BLUE\n",
      "Image: cc_(56, 174, 163).jpg\n",
      "Predicted: GREEN \n",
      "Actual: GREEN\n",
      "Image: cc_(57, 137, 193).jpg\n",
      "Predicted: BLUE \n",
      "Actual: BLUE\n",
      "Image: cc_(66, 56, 221).jpg\n",
      "Predicted: BLUE \n",
      "Actual: BLUE\n",
      "Image: cc_(68, 165, 14).jpg\n",
      "Predicted: GREEN \n",
      "Actual: GREEN\n",
      "Image: cc_(69, 194, 88).jpg\n",
      "Predicted: GREEN \n",
      "Actual: GREEN\n",
      "Image: cc_(73, 117, 79).jpg\n",
      "Predicted: GREEN \n",
      "Actual: GREEN\n",
      "Image: cc_(73, 2, 74).jpg\n",
      "Predicted: RED \n",
      "Actual: BLUE\n",
      "Image: cc_(76, 117, 140).jpg\n",
      "Predicted: BLUE \n",
      "Actual: BLUE\n",
      "Image: cc_(78, 55, 204).jpg\n",
      "Predicted: BLUE \n",
      "Actual: BLUE\n",
      "Image: cc_(8, 68, 108).jpg\n",
      "Predicted: BLUE \n",
      "Actual: BLUE\n",
      "Image: cc_(80, 52, 34).jpg\n",
      "Predicted: RED \n",
      "Actual: RED\n",
      "Image: cc_(81, 125, 32).jpg\n",
      "Predicted: GREEN \n",
      "Actual: GREEN\n",
      "Image: cc_(85, 149, 199).jpg\n",
      "Predicted: BLUE \n",
      "Actual: BLUE\n",
      "Image: cc_(85, 59, 97).jpg\n",
      "Predicted: BLUE \n",
      "Actual: BLUE\n",
      "Image: cc_(9, 122, 137).jpg\n",
      "Predicted: BLUE \n",
      "Actual: BLUE\n",
      "Image: cc_(9, 233, 182).jpg\n",
      "Predicted: GREEN \n",
      "Actual: GREEN\n",
      "Image: cc_(91, 147, 45).jpg\n",
      "Predicted: GREEN \n",
      "Actual: GREEN\n",
      "Image: cc_(94, 5, 224).jpg\n",
      "Predicted: BLUE \n",
      "Actual: BLUE\n",
      "Image: cc_(97, 130, 145).jpg\n",
      "Predicted: BLUE \n",
      "Actual: BLUE\n",
      "Image: cc_(99, 108, 211).jpg\n",
      "Predicted: BLUE \n",
      "Actual: BLUE\n",
      "\n",
      "Total: 100\n",
      "Accurately Predicted: 96\n"
     ]
    }
   ],
   "source": [
    "base = 'input\\\\'\n",
    "\n",
    "images = os.listdir(base)\n",
    "total = len(images)\n",
    "accu = 0\n",
    "\n",
    "for img_name in images:\n",
    "\n",
    "    p_col = run_check(base + img_name, model)\n",
    "\n",
    "    val = tuple(int(x) for x in img_name.split(\"(\")[1].split(\")\")[0].split(','))\n",
    "    c = get_color(val)\n",
    "\n",
    "    print('Image:', img_name)\n",
    "    print('Predicted:', p_col, '\\nActual:', c)\n",
    "\n",
    "    if c == p_col:\n",
    "        accu += 1\n",
    "\n",
    "print(\"\\nTotal: \" + str(total))\n",
    "print(\"Accurately Predicted: \" + str(accu))"
   ]
  },
  {
   "cell_type": "code",
   "execution_count": 40,
   "metadata": {},
   "outputs": [
    {
     "name": "stderr",
     "output_type": "stream",
     "text": [
      "\n",
      "Bad key \"text.kerning_factor\" on line 4 in\n",
      "D:\\s0um\\Softwares\\Anaconda3\\envs\\keras-gpu\\lib\\site-packages\\matplotlib\\mpl-data\\stylelib\\_classic_test_patch.mplstyle.\n",
      "You probably need to get an updated matplotlibrc file from\n",
      "https://github.com/matplotlib/matplotlib/blob/v3.1.3/matplotlibrc.template\n",
      "or from the matplotlib source distribution\n"
     ]
    }
   ],
   "source": [
    "import matplotlib.pyplot as plt\n",
    "%matplotlib inline "
   ]
  },
  {
   "cell_type": "code",
   "execution_count": 52,
   "metadata": {},
   "outputs": [
    {
     "data": {
      "text/plain": [
       "4"
      ]
     },
     "execution_count": 52,
     "metadata": {},
     "output_type": "execute_result"
    }
   ],
   "source": [
    "wrng = total - accu\n",
    "wrng"
   ]
  },
  {
   "cell_type": "code",
   "execution_count": 56,
   "metadata": {},
   "outputs": [
    {
     "data": {
      "image/png": "[encoded data removed]",
      "text/plain": [
       "<Figure size 576x576 with 1 Axes>"
      ]
     },
     "metadata": {},
     "output_type": "display_data"
    }
   ],
   "source": [
    "wrng = total - accu\n",
    "labels = ['Wrong  Predicted', 'Accurately Predicted']\n",
    "sizes = [Wrong_pred, accu]\n",
    "\n",
    "plt.figure(figsize=(8,8))\n",
    "plt.pie(sizes,\n",
    "      labels=labels,\n",
    "      autopct='%1.1f%%',\n",
    "      wedgeprops={\"edgecolor\":\"k\",\n",
    "                  'linewidth': 1,\n",
    "                  'antialiased': True});"
   ]
  },
  {
   "cell_type": "code",
   "execution_count": 57,
   "metadata": {},
   "outputs": [
    {
     "data": {
      "image/png": "[encoded data removed]",
      "text/plain": [
       "<Figure size 432x288 with 1 Axes>"
      ]
     },
     "metadata": {
      "needs_background": "light"
     },
     "output_type": "display_data"
    }
   ],
   "source": [
    "y_values = [total, accu, wrng]\n",
    "x_labels = ['Total', 'Accurately Predicted', 'Wrong  Predicted']\n",
    "plt.title('Accuracy Graphs')\n",
    "plt.bar(x_labels, y_values);"
   ]
  },
  {
   "cell_type": "markdown",
   "metadata": {},
   "source": [
    "We see that the model acheived 96% of accuracy, now lets try to pass a custom image create right into this notebook"
   ]
  },
  {
   "cell_type": "markdown",
   "metadata": {},
   "source": [
    "## Test with a custom image"
   ]
  },
  {
   "cell_type": "code",
   "execution_count": 76,
   "metadata": {},
   "outputs": [],
   "source": [
    "height, width = 100, 100\n",
    "blank_image = np.zeros((height, width, 3), np.uint8)"
   ]
  },
  {
   "cell_type": "code",
   "execution_count": 77,
   "metadata": {},
   "outputs": [],
   "source": [
    "# red image\n",
    "img1 = blank_image\n",
    "img1[:, 0:width] = (200, 10, 10)"
   ]
  },
  {
   "cell_type": "code",
   "execution_count": 78,
   "metadata": {},
   "outputs": [],
   "source": [
    "img1 = np.array(img1)"
   ]
  },
  {
   "cell_type": "code",
   "execution_count": 79,
   "metadata": {},
   "outputs": [
    {
     "data": {
      "image/png": "[encoded data removed]",
      "text/plain": [
       "<Figure size 432x288 with 1 Axes>"
      ]
     },
     "metadata": {
      "needs_background": "light"
     },
     "output_type": "display_data"
    }
   ],
   "source": [
    "plt.imshow(img1)\n",
    "plt.show()"
   ]
  },
  {
   "cell_type": "code",
   "execution_count": 80,
   "metadata": {},
   "outputs": [
    {
     "data": {
      "text/plain": [
       "(100, 100, 3)"
      ]
     },
     "execution_count": 80,
     "metadata": {},
     "output_type": "execute_result"
    }
   ],
   "source": [
    "img1.shape"
   ]
  },
  {
   "cell_type": "code",
   "execution_count": 81,
   "metadata": {},
   "outputs": [],
   "source": [
    "in_img = img1 / 255\n",
    "in_img = np.expand_dims(in_img, axis=0)\n",
    "\n",
    "y_hat = model.predict(in_img)\n",
    "\n",
    "red = y_hat[0][0]\n",
    "green = y_hat[0][1]\n",
    "blue = y_hat[0][2]"
   ]
  },
  {
   "cell_type": "code",
   "execution_count": 82,
   "metadata": {},
   "outputs": [
    {
     "data": {
      "text/plain": [
       "'RED'"
      ]
     },
     "execution_count": 82,
     "metadata": {},
     "output_type": "execute_result"
    }
   ],
   "source": [
    "get_color((red, green, blue))"
   ]
  },
  {
   "cell_type": "code",
   "execution_count": 83,
   "metadata": {},
   "outputs": [],
   "source": [
    "# blue image\n",
    "img2 = blank_image\n",
    "img2[:, 0:width] = (123, 53, 234)"
   ]
  },
  {
   "cell_type": "code",
   "execution_count": 84,
   "metadata": {},
   "outputs": [
    {
     "data": {
      "image/png": "[encoded data removed]",
      "text/plain": [
       "<Figure size 432x288 with 1 Axes>"
      ]
     },
     "metadata": {
      "needs_background": "light"
     },
     "output_type": "display_data"
    }
   ],
   "source": [
    "img2 = np.array(img2)\n",
    "plt.imshow(img2)\n",
    "plt.show()"
   ]
  },
  {
   "cell_type": "code",
   "execution_count": 85,
   "metadata": {},
   "outputs": [
    {
     "data": {
      "text/plain": [
       "(100, 100, 3)"
      ]
     },
     "execution_count": 85,
     "metadata": {},
     "output_type": "execute_result"
    }
   ],
   "source": [
    "img2.shape"
   ]
  },
  {
   "cell_type": "code",
   "execution_count": 86,
   "metadata": {},
   "outputs": [
    {
     "data": {
      "text/plain": [
       "'BLUE'"
      ]
     },
     "execution_count": 86,
     "metadata": {},
     "output_type": "execute_result"
    }
   ],
   "source": [
    "in_img = img2 / 255\n",
    "in_img = np.expand_dims(in_img, axis=0)\n",
    "\n",
    "y_hat = model.predict(in_img)\n",
    "\n",
    "red = y_hat[0][0]\n",
    "green = y_hat[0][1]\n",
    "blue = y_hat[0][2]\n",
    "get_color((red, green, blue))"
   ]
  },
  {
   "cell_type": "code",
   "execution_count": 91,
   "metadata": {},
   "outputs": [
    {
     "data": {
      "image/png": "[encoded data removed]",
      "text/plain": [
       "<Figure size 432x288 with 1 Axes>"
      ]
     },
     "metadata": {
      "needs_background": "light"
     },
     "output_type": "display_data"
    }
   ],
   "source": [
    "# green image\n",
    "img3 = blank_image\n",
    "img3[:, 0:width] = (233, 255, 214)\n",
    "img3 = np.array(img3)\n",
    "plt.imshow(img3)\n",
    "plt.show()"
   ]
  },
  {
   "cell_type": "code",
   "execution_count": 92,
   "metadata": {},
   "outputs": [
    {
     "data": {
      "text/plain": [
       "'GREEN'"
      ]
     },
     "execution_count": 92,
     "metadata": {},
     "output_type": "execute_result"
    }
   ],
   "source": [
    "in_img = img3 / 255\n",
    "in_img = np.expand_dims(in_img, axis=0)\n",
    "\n",
    "y_hat = model.predict(in_img)\n",
    "\n",
    "red = y_hat[0][0]\n",
    "green = y_hat[0][1]\n",
    "blue = y_hat[0][2]\n",
    "get_color((red, green, blue))"
   ]
  },
  {
   "cell_type": "code",
   "execution_count": null,
   "metadata": {},
   "outputs": [],
   "source": []
  }
 ],
 "metadata": {
  "kernelspec": {
   "display_name": "Python 3",
   "language": "python",
   "name": "python3"
  },
  "language_info": {
   "codemirror_mode": {
    "name": "ipython",
    "version": 3
   },
   "file_extension": ".py",
   "mimetype": "text/x-python",
   "name": "python",
   "nbconvert_exporter": "python",
   "pygments_lexer": "ipython3",
   "version": "3.6.10"
  }
 },
 "nbformat": 4,
 "nbformat_minor": 4
}
